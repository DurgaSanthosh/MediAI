{
 "cells": [
  {
   "cell_type": "code",
   "execution_count": 1,
   "id": "ac88ef27-f289-4cb5-9897-8683b07e85e4",
   "metadata": {},
   "outputs": [],
   "source": [
    "import os\n",
    "import shutil\n",
    "\n",
    "# define the input folder path\n",
    "input_folder = \"E:\\\\Final-P\\\\Pneumonia-Detection-using-FastAI-main\\\\chest_xray\\\\train\"\n",
    "\n",
    "# define the output folder paths\n",
    "non_virus_folder = \"E:\\\\Final-P\\\\Pneumonia-Detection-using-FastAI-main\\\\chest_xray\\\\train\\\\non-viral\"\n",
    "virus_folder = \"E:\\\\Final-P\\\\Pneumonia-Detection-using-FastAI-main\\\\chest_xray\\\\train\\\\viral\"\n",
    "\n",
    "# create the output folders if they don't exist\n",
    "os.makedirs(non_virus_folder, exist_ok=True)\n",
    "os.makedirs(virus_folder, exist_ok=True)\n",
    "\n",
    "# loop through all the files in the input folder\n",
    "for filename in os.listdir(input_folder):\n",
    "    # check if the filename contains \"bacteria\" or \"virus\"\n",
    "    if \"bacteria\" in filename.lower():\n",
    "        # move the file to the bacteria folder\n",
    "        shutil.move(os.path.join(input_folder, filename), non_virus_folder)\n",
    "    elif \"fungal\" in filename.lower():\n",
    "        # move the file to the virus folder\n",
    "        shutil.move(os.path.join(input_folder, filename), non_virus_folder)\n",
    "    elif \"virus\" in filename.lower():\n",
    "        # move the file to the virus folder\n",
    "        shutil.move(os.path.join(input_folder, filename), virus_folder)"
   ]
  },
  {
   "cell_type": "code",
   "execution_count": 2,
   "id": "b108a889-668d-4c7a-b2ec-7ce4690898fb",
   "metadata": {},
   "outputs": [
    {
     "name": "stderr",
     "output_type": "stream",
     "text": [
      "c:\\users\\hp\\appdata\\local\\programs\\python\\python39\\lib\\site-packages\\fastai\\vision\\learner.py:301: UserWarning: `cnn_learner` has been renamed to `vision_learner` -- please update your code\n",
      "  warn(\"`cnn_learner` has been renamed to `vision_learner` -- please update your code\")\n"
     ]
    },
    {
     "data": {
      "text/html": [
       "\n",
       "<style>\n",
       "    /* Turns off some styling */\n",
       "    progress {\n",
       "        /* gets rid of default border in Firefox and Opera. */\n",
       "        border: none;\n",
       "        /* Needs to be in here for Safari polyfill so background images work as expected. */\n",
       "        background-size: auto;\n",
       "    }\n",
       "    progress:not([value]), progress:not([value])::-webkit-progress-bar {\n",
       "        background: repeating-linear-gradient(45deg, #7e7e7e, #7e7e7e 10px, #5c5c5c 10px, #5c5c5c 20px);\n",
       "    }\n",
       "    .progress-bar-interrupted, .progress-bar-interrupted::-webkit-progress-bar {\n",
       "        background: #F44336;\n",
       "    }\n",
       "</style>\n"
      ],
      "text/plain": [
       "<IPython.core.display.HTML object>"
      ]
     },
     "metadata": {},
     "output_type": "display_data"
    },
    {
     "data": {
      "text/html": [
       "<table border=\"1\" class=\"dataframe\">\n",
       "  <thead>\n",
       "    <tr style=\"text-align: left;\">\n",
       "      <th>epoch</th>\n",
       "      <th>train_loss</th>\n",
       "      <th>valid_loss</th>\n",
       "      <th>accuracy</th>\n",
       "      <th>time</th>\n",
       "    </tr>\n",
       "  </thead>\n",
       "  <tbody>\n",
       "    <tr>\n",
       "      <td>0</td>\n",
       "      <td>1.035490</td>\n",
       "      <td>0.673459</td>\n",
       "      <td>0.776606</td>\n",
       "      <td>36:05</td>\n",
       "    </tr>\n",
       "  </tbody>\n",
       "</table>"
      ],
      "text/plain": [
       "<IPython.core.display.HTML object>"
      ]
     },
     "metadata": {},
     "output_type": "display_data"
    },
    {
     "data": {
      "text/html": [
       "\n",
       "<style>\n",
       "    /* Turns off some styling */\n",
       "    progress {\n",
       "        /* gets rid of default border in Firefox and Opera. */\n",
       "        border: none;\n",
       "        /* Needs to be in here for Safari polyfill so background images work as expected. */\n",
       "        background-size: auto;\n",
       "    }\n",
       "    progress:not([value]), progress:not([value])::-webkit-progress-bar {\n",
       "        background: repeating-linear-gradient(45deg, #7e7e7e, #7e7e7e 10px, #5c5c5c 10px, #5c5c5c 20px);\n",
       "    }\n",
       "    .progress-bar-interrupted, .progress-bar-interrupted::-webkit-progress-bar {\n",
       "        background: #F44336;\n",
       "    }\n",
       "</style>\n"
      ],
      "text/plain": [
       "<IPython.core.display.HTML object>"
      ]
     },
     "metadata": {},
     "output_type": "display_data"
    },
    {
     "data": {
      "text/html": [
       "<table border=\"1\" class=\"dataframe\">\n",
       "  <thead>\n",
       "    <tr style=\"text-align: left;\">\n",
       "      <th>epoch</th>\n",
       "      <th>train_loss</th>\n",
       "      <th>valid_loss</th>\n",
       "      <th>accuracy</th>\n",
       "      <th>time</th>\n",
       "    </tr>\n",
       "  </thead>\n",
       "  <tbody>\n",
       "    <tr>\n",
       "      <td>0</td>\n",
       "      <td>0.646023</td>\n",
       "      <td>0.583496</td>\n",
       "      <td>0.777565</td>\n",
       "      <td>46:04</td>\n",
       "    </tr>\n",
       "    <tr>\n",
       "      <td>1</td>\n",
       "      <td>0.528572</td>\n",
       "      <td>0.500329</td>\n",
       "      <td>0.805369</td>\n",
       "      <td>38:49</td>\n",
       "    </tr>\n",
       "    <tr>\n",
       "      <td>2</td>\n",
       "      <td>0.451471</td>\n",
       "      <td>0.468191</td>\n",
       "      <td>0.819751</td>\n",
       "      <td>39:11</td>\n",
       "    </tr>\n",
       "    <tr>\n",
       "      <td>3</td>\n",
       "      <td>0.397291</td>\n",
       "      <td>0.521126</td>\n",
       "      <td>0.809204</td>\n",
       "      <td>52:30</td>\n",
       "    </tr>\n",
       "    <tr>\n",
       "      <td>4</td>\n",
       "      <td>0.351214</td>\n",
       "      <td>0.481324</td>\n",
       "      <td>0.815916</td>\n",
       "      <td>38:17</td>\n",
       "    </tr>\n",
       "    <tr>\n",
       "      <td>5</td>\n",
       "      <td>0.289303</td>\n",
       "      <td>0.558410</td>\n",
       "      <td>0.807287</td>\n",
       "      <td>39:10</td>\n",
       "    </tr>\n",
       "    <tr>\n",
       "      <td>6</td>\n",
       "      <td>0.238147</td>\n",
       "      <td>0.528837</td>\n",
       "      <td>0.813039</td>\n",
       "      <td>39:17</td>\n",
       "    </tr>\n",
       "    <tr>\n",
       "      <td>7</td>\n",
       "      <td>0.176856</td>\n",
       "      <td>0.624291</td>\n",
       "      <td>0.831256</td>\n",
       "      <td>40:07</td>\n",
       "    </tr>\n",
       "    <tr>\n",
       "      <td>8</td>\n",
       "      <td>0.155627</td>\n",
       "      <td>0.641734</td>\n",
       "      <td>0.820709</td>\n",
       "      <td>39:50</td>\n",
       "    </tr>\n",
       "    <tr>\n",
       "      <td>9</td>\n",
       "      <td>0.103683</td>\n",
       "      <td>0.607702</td>\n",
       "      <td>0.830297</td>\n",
       "      <td>1:46:07</td>\n",
       "    </tr>\n",
       "    <tr>\n",
       "      <td>10</td>\n",
       "      <td>0.073988</td>\n",
       "      <td>0.662641</td>\n",
       "      <td>0.844679</td>\n",
       "      <td>36:47</td>\n",
       "    </tr>\n",
       "    <tr>\n",
       "      <td>11</td>\n",
       "      <td>0.062447</td>\n",
       "      <td>0.720665</td>\n",
       "      <td>0.832215</td>\n",
       "      <td>36:51</td>\n",
       "    </tr>\n",
       "    <tr>\n",
       "      <td>12</td>\n",
       "      <td>0.050852</td>\n",
       "      <td>0.760523</td>\n",
       "      <td>0.825503</td>\n",
       "      <td>36:33</td>\n",
       "    </tr>\n",
       "    <tr>\n",
       "      <td>13</td>\n",
       "      <td>0.033599</td>\n",
       "      <td>0.754782</td>\n",
       "      <td>0.857143</td>\n",
       "      <td>36:49</td>\n",
       "    </tr>\n",
       "    <tr>\n",
       "      <td>14</td>\n",
       "      <td>0.033817</td>\n",
       "      <td>0.743875</td>\n",
       "      <td>0.843720</td>\n",
       "      <td>36:59</td>\n",
       "    </tr>\n",
       "    <tr>\n",
       "      <td>15</td>\n",
       "      <td>0.023030</td>\n",
       "      <td>0.688418</td>\n",
       "      <td>0.847555</td>\n",
       "      <td>45:06</td>\n",
       "    </tr>\n",
       "    <tr>\n",
       "      <td>16</td>\n",
       "      <td>0.017841</td>\n",
       "      <td>0.672157</td>\n",
       "      <td>0.856184</td>\n",
       "      <td>45:36</td>\n",
       "    </tr>\n",
       "    <tr>\n",
       "      <td>17</td>\n",
       "      <td>0.011103</td>\n",
       "      <td>0.666644</td>\n",
       "      <td>0.853308</td>\n",
       "      <td>37:24</td>\n",
       "    </tr>\n",
       "    <tr>\n",
       "      <td>18</td>\n",
       "      <td>0.009065</td>\n",
       "      <td>0.671466</td>\n",
       "      <td>0.858102</td>\n",
       "      <td>36:55</td>\n",
       "    </tr>\n",
       "    <tr>\n",
       "      <td>19</td>\n",
       "      <td>0.007354</td>\n",
       "      <td>0.691087</td>\n",
       "      <td>0.857143</td>\n",
       "      <td>38:01</td>\n",
       "    </tr>\n",
       "  </tbody>\n",
       "</table>"
      ],
      "text/plain": [
       "<IPython.core.display.HTML object>"
      ]
     },
     "metadata": {},
     "output_type": "display_data"
    }
   ],
   "source": [
    "from fastai.vision.all import *\n",
    "\n",
    "lung_types = 'NORMAL','VIRUS','NONVIRAL'\n",
    "path = Path('E:\\\\Final-P\\\\Pneumonia-Detection-using-FastAI-main\\\\chest_xray\\\\train')\n",
    "\n",
    "# Define the data block\n",
    "lungs = DataBlock(\n",
    "    blocks=(ImageBlock, CategoryBlock), \n",
    "    get_items=get_image_files, \n",
    "    splitter=RandomSplitter(valid_pct=0.2, seed=42),\n",
    "    get_y=parent_label,\n",
    "    item_tfms=Resize(128)\n",
    ")\n",
    "\n",
    "# Create dataloaders\n",
    "dls = lungs.dataloaders(path)\n",
    "\n",
    "# Create and fine-tune the VGG19 model\n",
    "learn = cnn_learner(dls, vgg19_bn, metrics=accuracy)\n",
    "learn.fine_tune(20)\n"
   ]
  },
  {
   "cell_type": "code",
   "execution_count": 18,
   "id": "ecb7bddb-14ed-46e1-bb82-f97b22adca23",
   "metadata": {},
   "outputs": [
    {
     "data": {
      "text/html": [
       "\n",
       "<style>\n",
       "    /* Turns off some styling */\n",
       "    progress {\n",
       "        /* gets rid of default border in Firefox and Opera. */\n",
       "        border: none;\n",
       "        /* Needs to be in here for Safari polyfill so background images work as expected. */\n",
       "        background-size: auto;\n",
       "    }\n",
       "    progress:not([value]), progress:not([value])::-webkit-progress-bar {\n",
       "        background: repeating-linear-gradient(45deg, #7e7e7e, #7e7e7e 10px, #5c5c5c 10px, #5c5c5c 20px);\n",
       "    }\n",
       "    .progress-bar-interrupted, .progress-bar-interrupted::-webkit-progress-bar {\n",
       "        background: #F44336;\n",
       "    }\n",
       "</style>\n"
      ],
      "text/plain": [
       "<IPython.core.display.HTML object>"
      ]
     },
     "metadata": {},
     "output_type": "display_data"
    },
    {
     "data": {
      "text/html": [],
      "text/plain": [
       "<IPython.core.display.HTML object>"
      ]
     },
     "metadata": {},
     "output_type": "display_data"
    },
    {
     "data": {
      "text/html": [
       "\n",
       "<style>\n",
       "    /* Turns off some styling */\n",
       "    progress {\n",
       "        /* gets rid of default border in Firefox and Opera. */\n",
       "        border: none;\n",
       "        /* Needs to be in here for Safari polyfill so background images work as expected. */\n",
       "        background-size: auto;\n",
       "    }\n",
       "    progress:not([value]), progress:not([value])::-webkit-progress-bar {\n",
       "        background: repeating-linear-gradient(45deg, #7e7e7e, #7e7e7e 10px, #5c5c5c 10px, #5c5c5c 20px);\n",
       "    }\n",
       "    .progress-bar-interrupted, .progress-bar-interrupted::-webkit-progress-bar {\n",
       "        background: #F44336;\n",
       "    }\n",
       "</style>\n"
      ],
      "text/plain": [
       "<IPython.core.display.HTML object>"
      ]
     },
     "metadata": {},
     "output_type": "display_data"
    },
    {
     "data": {
      "text/html": [],
      "text/plain": [
       "<IPython.core.display.HTML object>"
      ]
     },
     "metadata": {},
     "output_type": "display_data"
    },
    {
     "ename": "ValueError",
     "evalue": "not enough values to unpack (expected 3, got 2)",
     "output_type": "error",
     "traceback": [
      "\u001b[1;31m---------------------------------------------------------------------------\u001b[0m",
      "\u001b[1;31mValueError\u001b[0m                                Traceback (most recent call last)",
      "Cell \u001b[1;32mIn[18], line 2\u001b[0m\n\u001b[0;32m      1\u001b[0m interp \u001b[38;5;241m=\u001b[39m ClassificationInterpretation\u001b[38;5;241m.\u001b[39mfrom_learner(learn)\n\u001b[1;32m----> 2\u001b[0m \u001b[43minterp\u001b[49m\u001b[38;5;241;43m.\u001b[39;49m\u001b[43mplot_confusion_matrix\u001b[49m\u001b[43m(\u001b[49m\u001b[43m)\u001b[49m\n",
      "File \u001b[1;32mc:\\users\\hp\\appdata\\local\\programs\\python\\python39\\lib\\site-packages\\fastai\\interpret.py:130\u001b[0m, in \u001b[0;36mClassificationInterpretation.plot_confusion_matrix\u001b[1;34m(self, normalize, title, cmap, norm_dec, plot_txt, **kwargs)\u001b[0m\n\u001b[0;32m    128\u001b[0m \u001b[38;5;124m\"\u001b[39m\u001b[38;5;124mPlot the confusion matrix, with `title` and using `cmap`.\u001b[39m\u001b[38;5;124m\"\u001b[39m\n\u001b[0;32m    129\u001b[0m \u001b[38;5;66;03m# This function is mainly copied from the sklearn docs\u001b[39;00m\n\u001b[1;32m--> 130\u001b[0m cm \u001b[38;5;241m=\u001b[39m \u001b[38;5;28;43mself\u001b[39;49m\u001b[38;5;241;43m.\u001b[39;49m\u001b[43mconfusion_matrix\u001b[49m\u001b[43m(\u001b[49m\u001b[43m)\u001b[49m\n\u001b[0;32m    131\u001b[0m \u001b[38;5;28;01mif\u001b[39;00m normalize: cm \u001b[38;5;241m=\u001b[39m cm\u001b[38;5;241m.\u001b[39mastype(\u001b[38;5;124m'\u001b[39m\u001b[38;5;124mfloat\u001b[39m\u001b[38;5;124m'\u001b[39m) \u001b[38;5;241m/\u001b[39m cm\u001b[38;5;241m.\u001b[39msum(axis\u001b[38;5;241m=\u001b[39m\u001b[38;5;241m1\u001b[39m)[:, np\u001b[38;5;241m.\u001b[39mnewaxis]\n\u001b[0;32m    132\u001b[0m fig \u001b[38;5;241m=\u001b[39m plt\u001b[38;5;241m.\u001b[39mfigure(\u001b[38;5;241m*\u001b[39m\u001b[38;5;241m*\u001b[39mkwargs)\n",
      "File \u001b[1;32mc:\\users\\hp\\appdata\\local\\programs\\python\\python39\\lib\\site-packages\\fastai\\interpret.py:114\u001b[0m, in \u001b[0;36mClassificationInterpretation.confusion_matrix\u001b[1;34m(self)\u001b[0m\n\u001b[0;32m    112\u001b[0m \u001b[38;5;124m\"\u001b[39m\u001b[38;5;124mConfusion matrix as an `np.ndarray`.\u001b[39m\u001b[38;5;124m\"\u001b[39m\n\u001b[0;32m    113\u001b[0m x \u001b[38;5;241m=\u001b[39m torch\u001b[38;5;241m.\u001b[39marange(\u001b[38;5;241m0\u001b[39m, \u001b[38;5;28mlen\u001b[39m(\u001b[38;5;28mself\u001b[39m\u001b[38;5;241m.\u001b[39mvocab))\n\u001b[1;32m--> 114\u001b[0m _,targs,decoded \u001b[38;5;241m=\u001b[39m \u001b[38;5;28mself\u001b[39m\u001b[38;5;241m.\u001b[39mlearn\u001b[38;5;241m.\u001b[39mget_preds(dl\u001b[38;5;241m=\u001b[39m\u001b[38;5;28mself\u001b[39m\u001b[38;5;241m.\u001b[39mdl, with_decoded\u001b[38;5;241m=\u001b[39m\u001b[38;5;28;01mTrue\u001b[39;00m, with_preds\u001b[38;5;241m=\u001b[39m\u001b[38;5;28;01mTrue\u001b[39;00m, \n\u001b[0;32m    115\u001b[0m                                        with_targs\u001b[38;5;241m=\u001b[39m\u001b[38;5;28;01mTrue\u001b[39;00m, act\u001b[38;5;241m=\u001b[39m\u001b[38;5;28mself\u001b[39m\u001b[38;5;241m.\u001b[39mact)\n\u001b[0;32m    116\u001b[0m d,t \u001b[38;5;241m=\u001b[39m flatten_check(decoded, targs)\n\u001b[0;32m    117\u001b[0m cm \u001b[38;5;241m=\u001b[39m ((d\u001b[38;5;241m==\u001b[39mx[:,\u001b[38;5;28;01mNone\u001b[39;00m]) \u001b[38;5;241m&\u001b[39m (t\u001b[38;5;241m==\u001b[39mx[:,\u001b[38;5;28;01mNone\u001b[39;00m,\u001b[38;5;28;01mNone\u001b[39;00m]))\u001b[38;5;241m.\u001b[39mlong()\u001b[38;5;241m.\u001b[39msum(\u001b[38;5;241m2\u001b[39m)\n",
      "\u001b[1;31mValueError\u001b[0m: not enough values to unpack (expected 3, got 2)"
     ]
    }
   ],
   "source": [
    "interp = ClassificationInterpretation.from_learner(learn)\n",
    "interp.plot_confusion_matrix()"
   ]
  },
  {
   "cell_type": "code",
   "execution_count": 12,
   "id": "4d07f5c8-3c35-41ad-913d-45ece7f59266",
   "metadata": {},
   "outputs": [
    {
     "data": {
      "text/html": [
       "\n",
       "<style>\n",
       "    /* Turns off some styling */\n",
       "    progress {\n",
       "        /* gets rid of default border in Firefox and Opera. */\n",
       "        border: none;\n",
       "        /* Needs to be in here for Safari polyfill so background images work as expected. */\n",
       "        background-size: auto;\n",
       "    }\n",
       "    progress:not([value]), progress:not([value])::-webkit-progress-bar {\n",
       "        background: repeating-linear-gradient(45deg, #7e7e7e, #7e7e7e 10px, #5c5c5c 10px, #5c5c5c 20px);\n",
       "    }\n",
       "    .progress-bar-interrupted, .progress-bar-interrupted::-webkit-progress-bar {\n",
       "        background: #F44336;\n",
       "    }\n",
       "</style>\n"
      ],
      "text/plain": [
       "<IPython.core.display.HTML object>"
      ]
     },
     "metadata": {},
     "output_type": "display_data"
    },
    {
     "data": {
      "text/html": [],
      "text/plain": [
       "<IPython.core.display.HTML object>"
      ]
     },
     "metadata": {},
     "output_type": "display_data"
    },
    {
     "data": {
      "text/html": [
       "\n",
       "<style>\n",
       "    /* Turns off some styling */\n",
       "    progress {\n",
       "        /* gets rid of default border in Firefox and Opera. */\n",
       "        border: none;\n",
       "        /* Needs to be in here for Safari polyfill so background images work as expected. */\n",
       "        background-size: auto;\n",
       "    }\n",
       "    progress:not([value]), progress:not([value])::-webkit-progress-bar {\n",
       "        background: repeating-linear-gradient(45deg, #7e7e7e, #7e7e7e 10px, #5c5c5c 10px, #5c5c5c 20px);\n",
       "    }\n",
       "    .progress-bar-interrupted, .progress-bar-interrupted::-webkit-progress-bar {\n",
       "        background: #F44336;\n",
       "    }\n",
       "</style>\n"
      ],
      "text/plain": [
       "<IPython.core.display.HTML object>"
      ]
     },
     "metadata": {},
     "output_type": "display_data"
    },
    {
     "data": {
      "text/html": [],
      "text/plain": [
       "<IPython.core.display.HTML object>"
      ]
     },
     "metadata": {},
     "output_type": "display_data"
    },
    {
     "ename": "ValueError",
     "evalue": "not enough values to unpack (expected 3, got 2)",
     "output_type": "error",
     "traceback": [
      "\u001b[1;31m---------------------------------------------------------------------------\u001b[0m",
      "\u001b[1;31mValueError\u001b[0m                                Traceback (most recent call last)",
      "Cell \u001b[1;32mIn[12], line 2\u001b[0m\n\u001b[0;32m      1\u001b[0m interp \u001b[38;5;241m=\u001b[39m ClassificationInterpretation\u001b[38;5;241m.\u001b[39mfrom_learner(learn)\n\u001b[1;32m----> 2\u001b[0m \u001b[43minterp\u001b[49m\u001b[38;5;241;43m.\u001b[39;49m\u001b[43mprint_classification_report\u001b[49m\u001b[43m(\u001b[49m\u001b[43m)\u001b[49m\n",
      "File \u001b[1;32mc:\\users\\hp\\appdata\\local\\programs\\python\\python39\\lib\\site-packages\\fastai\\interpret.py:163\u001b[0m, in \u001b[0;36mClassificationInterpretation.print_classification_report\u001b[1;34m(self)\u001b[0m\n\u001b[0;32m    161\u001b[0m \u001b[38;5;28;01mdef\u001b[39;00m \u001b[38;5;21mprint_classification_report\u001b[39m(\u001b[38;5;28mself\u001b[39m):\n\u001b[0;32m    162\u001b[0m     \u001b[38;5;124m\"\u001b[39m\u001b[38;5;124mPrint scikit-learn classification report\u001b[39m\u001b[38;5;124m\"\u001b[39m\n\u001b[1;32m--> 163\u001b[0m     _,targs,decoded \u001b[38;5;241m=\u001b[39m \u001b[38;5;28mself\u001b[39m\u001b[38;5;241m.\u001b[39mlearn\u001b[38;5;241m.\u001b[39mget_preds(dl\u001b[38;5;241m=\u001b[39m\u001b[38;5;28mself\u001b[39m\u001b[38;5;241m.\u001b[39mdl, with_decoded\u001b[38;5;241m=\u001b[39m\u001b[38;5;28;01mTrue\u001b[39;00m, with_preds\u001b[38;5;241m=\u001b[39m\u001b[38;5;28;01mTrue\u001b[39;00m, \n\u001b[0;32m    164\u001b[0m                                            with_targs\u001b[38;5;241m=\u001b[39m\u001b[38;5;28;01mTrue\u001b[39;00m, act\u001b[38;5;241m=\u001b[39m\u001b[38;5;28mself\u001b[39m\u001b[38;5;241m.\u001b[39mact)\n\u001b[0;32m    165\u001b[0m     d,t \u001b[38;5;241m=\u001b[39m flatten_check(decoded, targs)\n\u001b[0;32m    166\u001b[0m     names \u001b[38;5;241m=\u001b[39m [\u001b[38;5;28mstr\u001b[39m(v) \u001b[38;5;28;01mfor\u001b[39;00m v \u001b[38;5;129;01min\u001b[39;00m \u001b[38;5;28mself\u001b[39m\u001b[38;5;241m.\u001b[39mvocab]\n",
      "\u001b[1;31mValueError\u001b[0m: not enough values to unpack (expected 3, got 2)"
     ]
    }
   ],
   "source": [
    "interp = ClassificationInterpretation.from_learner(learn)\n",
    "interp.print_classification_report()"
   ]
  },
  {
   "cell_type": "code",
   "execution_count": 16,
   "id": "5a5e96c8-84ec-4669-a15b-6e3d1d354105",
   "metadata": {},
   "outputs": [
    {
     "data": {
      "text/html": [
       "\n",
       "<style>\n",
       "    /* Turns off some styling */\n",
       "    progress {\n",
       "        /* gets rid of default border in Firefox and Opera. */\n",
       "        border: none;\n",
       "        /* Needs to be in here for Safari polyfill so background images work as expected. */\n",
       "        background-size: auto;\n",
       "    }\n",
       "    progress:not([value]), progress:not([value])::-webkit-progress-bar {\n",
       "        background: repeating-linear-gradient(45deg, #7e7e7e, #7e7e7e 10px, #5c5c5c 10px, #5c5c5c 20px);\n",
       "    }\n",
       "    .progress-bar-interrupted, .progress-bar-interrupted::-webkit-progress-bar {\n",
       "        background: #F44336;\n",
       "    }\n",
       "</style>\n"
      ],
      "text/plain": [
       "<IPython.core.display.HTML object>"
      ]
     },
     "metadata": {},
     "output_type": "display_data"
    },
    {
     "data": {
      "text/html": [],
      "text/plain": [
       "<IPython.core.display.HTML object>"
      ]
     },
     "metadata": {},
     "output_type": "display_data"
    },
    {
     "ename": "AttributeError",
     "evalue": "labels",
     "output_type": "error",
     "traceback": [
      "\u001b[1;31m---------------------------------------------------------------------------\u001b[0m",
      "\u001b[1;31mAttributeError\u001b[0m                            Traceback (most recent call last)",
      "Cell \u001b[1;32mIn[16], line 2\u001b[0m\n\u001b[0;32m      1\u001b[0m _, pred_labels \u001b[38;5;241m=\u001b[39m learn\u001b[38;5;241m.\u001b[39mget_preds(dl\u001b[38;5;241m=\u001b[39minterp\u001b[38;5;241m.\u001b[39mdl, with_decoded\u001b[38;5;241m=\u001b[39m\u001b[38;5;28;01mTrue\u001b[39;00m)\n\u001b[1;32m----> 2\u001b[0m true_labels \u001b[38;5;241m=\u001b[39m \u001b[43minterp\u001b[49m\u001b[38;5;241;43m.\u001b[39;49m\u001b[43mdl\u001b[49m\u001b[38;5;241;43m.\u001b[39;49m\u001b[43mdataset\u001b[49m\u001b[38;5;241;43m.\u001b[39;49m\u001b[43mlabels\u001b[49m\n\u001b[0;32m      4\u001b[0m accuracy \u001b[38;5;241m=\u001b[39m (pred_labels \u001b[38;5;241m==\u001b[39m true_labels)\u001b[38;5;241m.\u001b[39mfloat()\u001b[38;5;241m.\u001b[39mmean()\u001b[38;5;241m.\u001b[39mitem()\n\u001b[0;32m      6\u001b[0m \u001b[38;5;28mprint\u001b[39m(\u001b[38;5;124m\"\u001b[39m\u001b[38;5;124mAccuracy:\u001b[39m\u001b[38;5;124m\"\u001b[39m, accuracy)\n",
      "File \u001b[1;32mc:\\users\\hp\\appdata\\local\\programs\\python\\python39\\lib\\site-packages\\fastai\\data\\core.py:450\u001b[0m, in \u001b[0;36mDatasets.__getattr__\u001b[1;34m(self, k)\u001b[0m\n\u001b[1;32m--> 450\u001b[0m \u001b[38;5;28;01mdef\u001b[39;00m \u001b[38;5;21m__getattr__\u001b[39m(\u001b[38;5;28mself\u001b[39m,k): \u001b[38;5;28;01mreturn\u001b[39;00m \u001b[43mgather_attrs\u001b[49m\u001b[43m(\u001b[49m\u001b[38;5;28;43mself\u001b[39;49m\u001b[43m,\u001b[49m\u001b[43m \u001b[49m\u001b[43mk\u001b[49m\u001b[43m,\u001b[49m\u001b[43m \u001b[49m\u001b[38;5;124;43m'\u001b[39;49m\u001b[38;5;124;43mtls\u001b[39;49m\u001b[38;5;124;43m'\u001b[39;49m\u001b[43m)\u001b[49m\n",
      "File \u001b[1;32mc:\\users\\hp\\appdata\\local\\programs\\python\\python39\\lib\\site-packages\\fastcore\\transform.py:173\u001b[0m, in \u001b[0;36mgather_attrs\u001b[1;34m(o, k, nm)\u001b[0m\n\u001b[0;32m    171\u001b[0m att \u001b[38;5;241m=\u001b[39m \u001b[38;5;28mgetattr\u001b[39m(o,nm)\n\u001b[0;32m    172\u001b[0m res \u001b[38;5;241m=\u001b[39m [t \u001b[38;5;28;01mfor\u001b[39;00m t \u001b[38;5;129;01min\u001b[39;00m att\u001b[38;5;241m.\u001b[39mattrgot(k) \u001b[38;5;28;01mif\u001b[39;00m t \u001b[38;5;129;01mis\u001b[39;00m \u001b[38;5;129;01mnot\u001b[39;00m \u001b[38;5;28;01mNone\u001b[39;00m]\n\u001b[1;32m--> 173\u001b[0m \u001b[38;5;28;01mif\u001b[39;00m \u001b[38;5;129;01mnot\u001b[39;00m res: \u001b[38;5;28;01mraise\u001b[39;00m \u001b[38;5;167;01mAttributeError\u001b[39;00m(k)\n\u001b[0;32m    174\u001b[0m \u001b[38;5;28;01mreturn\u001b[39;00m res[\u001b[38;5;241m0\u001b[39m] \u001b[38;5;28;01mif\u001b[39;00m \u001b[38;5;28mlen\u001b[39m(res)\u001b[38;5;241m==\u001b[39m\u001b[38;5;241m1\u001b[39m \u001b[38;5;28;01melse\u001b[39;00m L(res)\n",
      "\u001b[1;31mAttributeError\u001b[0m: labels"
     ]
    }
   ],
   "source": [
    "_, pred_labels = learn.get_preds(dl=interp.dl, with_decoded=True)\n",
    "true_labels = interp.dl.dataset.labels\n",
    "\n",
    "accuracy = (pred_labels == true_labels).float().mean().item()\n",
    "\n",
    "print(\"Accuracy:\", accuracy)"
   ]
  },
  {
   "cell_type": "code",
   "execution_count": 9,
   "id": "900ce149-64d3-4ebd-85de-e3bcbb002eb0",
   "metadata": {},
   "outputs": [
    {
     "data": {
      "text/html": [
       "\n",
       "<style>\n",
       "    /* Turns off some styling */\n",
       "    progress {\n",
       "        /* gets rid of default border in Firefox and Opera. */\n",
       "        border: none;\n",
       "        /* Needs to be in here for Safari polyfill so background images work as expected. */\n",
       "        background-size: auto;\n",
       "    }\n",
       "    progress:not([value]), progress:not([value])::-webkit-progress-bar {\n",
       "        background: repeating-linear-gradient(45deg, #7e7e7e, #7e7e7e 10px, #5c5c5c 10px, #5c5c5c 20px);\n",
       "    }\n",
       "    .progress-bar-interrupted, .progress-bar-interrupted::-webkit-progress-bar {\n",
       "        background: #F44336;\n",
       "    }\n",
       "</style>\n"
      ],
      "text/plain": [
       "<IPython.core.display.HTML object>"
      ]
     },
     "metadata": {},
     "output_type": "display_data"
    },
    {
     "data": {
      "text/html": [],
      "text/plain": [
       "<IPython.core.display.HTML object>"
      ]
     },
     "metadata": {},
     "output_type": "display_data"
    },
    {
     "data": {
      "text/html": [
       "\n",
       "<style>\n",
       "    /* Turns off some styling */\n",
       "    progress {\n",
       "        /* gets rid of default border in Firefox and Opera. */\n",
       "        border: none;\n",
       "        /* Needs to be in here for Safari polyfill so background images work as expected. */\n",
       "        background-size: auto;\n",
       "    }\n",
       "    progress:not([value]), progress:not([value])::-webkit-progress-bar {\n",
       "        background: repeating-linear-gradient(45deg, #7e7e7e, #7e7e7e 10px, #5c5c5c 10px, #5c5c5c 20px);\n",
       "    }\n",
       "    .progress-bar-interrupted, .progress-bar-interrupted::-webkit-progress-bar {\n",
       "        background: #F44336;\n",
       "    }\n",
       "</style>\n"
      ],
      "text/plain": [
       "<IPython.core.display.HTML object>"
      ]
     },
     "metadata": {},
     "output_type": "display_data"
    },
    {
     "data": {
      "text/html": [],
      "text/plain": [
       "<IPython.core.display.HTML object>"
      ]
     },
     "metadata": {},
     "output_type": "display_data"
    },
    {
     "ename": "ValueError",
     "evalue": "not enough values to unpack (expected 3, got 2)",
     "output_type": "error",
     "traceback": [
      "\u001b[1;31m---------------------------------------------------------------------------\u001b[0m",
      "\u001b[1;31mValueError\u001b[0m                                Traceback (most recent call last)",
      "Cell \u001b[1;32mIn[9], line 10\u001b[0m\n\u001b[0;32m      7\u001b[0m interp \u001b[38;5;241m=\u001b[39m ClassificationInterpretation\u001b[38;5;241m.\u001b[39mfrom_learner(learn)\n\u001b[0;32m      9\u001b[0m \u001b[38;5;66;03m# Plot the confusion matrix\u001b[39;00m\n\u001b[1;32m---> 10\u001b[0m \u001b[43minterp\u001b[49m\u001b[38;5;241;43m.\u001b[39;49m\u001b[43mplot_confusion_matrix\u001b[49m\u001b[43m(\u001b[49m\u001b[43m)\u001b[49m\n\u001b[0;32m     12\u001b[0m \u001b[38;5;66;03m# Get accuracy from the ClassificationInterpretation object\u001b[39;00m\n\u001b[0;32m     13\u001b[0m accuracy \u001b[38;5;241m=\u001b[39m interp\u001b[38;5;241m.\u001b[39maccuracy()\n",
      "File \u001b[1;32mc:\\users\\hp\\appdata\\local\\programs\\python\\python39\\lib\\site-packages\\fastai\\interpret.py:130\u001b[0m, in \u001b[0;36mClassificationInterpretation.plot_confusion_matrix\u001b[1;34m(self, normalize, title, cmap, norm_dec, plot_txt, **kwargs)\u001b[0m\n\u001b[0;32m    128\u001b[0m \u001b[38;5;124m\"\u001b[39m\u001b[38;5;124mPlot the confusion matrix, with `title` and using `cmap`.\u001b[39m\u001b[38;5;124m\"\u001b[39m\n\u001b[0;32m    129\u001b[0m \u001b[38;5;66;03m# This function is mainly copied from the sklearn docs\u001b[39;00m\n\u001b[1;32m--> 130\u001b[0m cm \u001b[38;5;241m=\u001b[39m \u001b[38;5;28;43mself\u001b[39;49m\u001b[38;5;241;43m.\u001b[39;49m\u001b[43mconfusion_matrix\u001b[49m\u001b[43m(\u001b[49m\u001b[43m)\u001b[49m\n\u001b[0;32m    131\u001b[0m \u001b[38;5;28;01mif\u001b[39;00m normalize: cm \u001b[38;5;241m=\u001b[39m cm\u001b[38;5;241m.\u001b[39mastype(\u001b[38;5;124m'\u001b[39m\u001b[38;5;124mfloat\u001b[39m\u001b[38;5;124m'\u001b[39m) \u001b[38;5;241m/\u001b[39m cm\u001b[38;5;241m.\u001b[39msum(axis\u001b[38;5;241m=\u001b[39m\u001b[38;5;241m1\u001b[39m)[:, np\u001b[38;5;241m.\u001b[39mnewaxis]\n\u001b[0;32m    132\u001b[0m fig \u001b[38;5;241m=\u001b[39m plt\u001b[38;5;241m.\u001b[39mfigure(\u001b[38;5;241m*\u001b[39m\u001b[38;5;241m*\u001b[39mkwargs)\n",
      "File \u001b[1;32mc:\\users\\hp\\appdata\\local\\programs\\python\\python39\\lib\\site-packages\\fastai\\interpret.py:114\u001b[0m, in \u001b[0;36mClassificationInterpretation.confusion_matrix\u001b[1;34m(self)\u001b[0m\n\u001b[0;32m    112\u001b[0m \u001b[38;5;124m\"\u001b[39m\u001b[38;5;124mConfusion matrix as an `np.ndarray`.\u001b[39m\u001b[38;5;124m\"\u001b[39m\n\u001b[0;32m    113\u001b[0m x \u001b[38;5;241m=\u001b[39m torch\u001b[38;5;241m.\u001b[39marange(\u001b[38;5;241m0\u001b[39m, \u001b[38;5;28mlen\u001b[39m(\u001b[38;5;28mself\u001b[39m\u001b[38;5;241m.\u001b[39mvocab))\n\u001b[1;32m--> 114\u001b[0m _,targs,decoded \u001b[38;5;241m=\u001b[39m \u001b[38;5;28mself\u001b[39m\u001b[38;5;241m.\u001b[39mlearn\u001b[38;5;241m.\u001b[39mget_preds(dl\u001b[38;5;241m=\u001b[39m\u001b[38;5;28mself\u001b[39m\u001b[38;5;241m.\u001b[39mdl, with_decoded\u001b[38;5;241m=\u001b[39m\u001b[38;5;28;01mTrue\u001b[39;00m, with_preds\u001b[38;5;241m=\u001b[39m\u001b[38;5;28;01mTrue\u001b[39;00m, \n\u001b[0;32m    115\u001b[0m                                        with_targs\u001b[38;5;241m=\u001b[39m\u001b[38;5;28;01mTrue\u001b[39;00m, act\u001b[38;5;241m=\u001b[39m\u001b[38;5;28mself\u001b[39m\u001b[38;5;241m.\u001b[39mact)\n\u001b[0;32m    116\u001b[0m d,t \u001b[38;5;241m=\u001b[39m flatten_check(decoded, targs)\n\u001b[0;32m    117\u001b[0m cm \u001b[38;5;241m=\u001b[39m ((d\u001b[38;5;241m==\u001b[39mx[:,\u001b[38;5;28;01mNone\u001b[39;00m]) \u001b[38;5;241m&\u001b[39m (t\u001b[38;5;241m==\u001b[39mx[:,\u001b[38;5;28;01mNone\u001b[39;00m,\u001b[38;5;28;01mNone\u001b[39;00m]))\u001b[38;5;241m.\u001b[39mlong()\u001b[38;5;241m.\u001b[39msum(\u001b[38;5;241m2\u001b[39m)\n",
      "\u001b[1;31mValueError\u001b[0m: not enough values to unpack (expected 3, got 2)"
     ]
    }
   ],
   "source": [
    "from fastai.vision.all import *\n",
    "\n",
    "# Load the previously trained model\n",
    "learn = load_learner(\"vggmodel.pkl\")\n",
    "\n",
    "# Create a ClassificationInterpretation object from the learner\n",
    "interp = ClassificationInterpretation.from_learner(learn)\n",
    "\n",
    "# Plot the confusion matrix\n",
    "interp.plot_confusion_matrix()\n",
    "\n",
    "# Get accuracy from the ClassificationInterpretation object\n",
    "accuracy = interp.accuracy()\n",
    "\n",
    "# Print accuracy\n",
    "print(\"Accuracy:\", accuracy)\n"
   ]
  },
  {
   "cell_type": "code",
   "execution_count": 19,
   "id": "87a96a44-2d7e-45ac-8856-cabcc63b5577",
   "metadata": {},
   "outputs": [
    {
     "data": {
      "text/html": [
       "\n",
       "<style>\n",
       "    /* Turns off some styling */\n",
       "    progress {\n",
       "        /* gets rid of default border in Firefox and Opera. */\n",
       "        border: none;\n",
       "        /* Needs to be in here for Safari polyfill so background images work as expected. */\n",
       "        background-size: auto;\n",
       "    }\n",
       "    progress:not([value]), progress:not([value])::-webkit-progress-bar {\n",
       "        background: repeating-linear-gradient(45deg, #7e7e7e, #7e7e7e 10px, #5c5c5c 10px, #5c5c5c 20px);\n",
       "    }\n",
       "    .progress-bar-interrupted, .progress-bar-interrupted::-webkit-progress-bar {\n",
       "        background: #F44336;\n",
       "    }\n",
       "</style>\n"
      ],
      "text/plain": [
       "<IPython.core.display.HTML object>"
      ]
     },
     "metadata": {},
     "output_type": "display_data"
    },
    {
     "data": {
      "text/html": [],
      "text/plain": [
       "<IPython.core.display.HTML object>"
      ]
     },
     "metadata": {},
     "output_type": "display_data"
    },
    {
     "data": {
      "text/plain": [
       "('NORMAL', tensor(0), tensor([8.5146e-01, 1.9344e-06, 1.4853e-01]))"
      ]
     },
     "execution_count": 19,
     "metadata": {},
     "output_type": "execute_result"
    }
   ],
   "source": [
    "# Export the trained model to a custom filename\n",
    "learn.export('vggmodel.pkl')\n",
    "\n",
    "path = Path()\n",
    "path.ls(file_exts='.pkl')\n",
    "\n",
    "# Load the exported learner from the custom filename\n",
    "learn_inf = load_learner(path/'vggmodel.pkl')\n",
    "\n",
    "# Test the model on individual images\n",
    "learn_inf.predict('E:\\\\Final-P\\\\Pneumonia-Detection-using-FastAI-main\\\\chest_xray\\\\test\\\\NORMAL\\\\IM-0003-0001.jpeg')"
   ]
  },
  {
   "cell_type": "code",
   "execution_count": null,
   "id": "4720ae54-6f0d-4332-9e3c-f84f2e26ec02",
   "metadata": {},
   "outputs": [],
   "source": [
    "learn_inf.predict('E:\\\\Final-P\\\\Pneumonia-Detection-using-FastAI-main\\\\chest_xray\\\\test\\\\PNEUMONIA\\\\person78_bacteria_381.jpeg')"
   ]
  },
  {
   "cell_type": "code",
   "execution_count": null,
   "id": "1ee9c42d-d925-4ece-a537-b01495cc0406",
   "metadata": {},
   "outputs": [],
   "source": [
    "learn_inf.predict('E:\\\\Final-P\\\\Pneumonia-Detection-using-FastAI-main\\\\chest_xray\\\\test\\\\PNEUMONIA\\\\person44_virus_93.jpeg')"
   ]
  },
  {
   "cell_type": "code",
   "execution_count": null,
   "id": "397f1c08-be20-4f60-8ed7-ca5f4312bdd7",
   "metadata": {},
   "outputs": [],
   "source": [
    "import random\n",
    "from PIL import Image\n",
    "\n",
    "# Get the paths to 10 random test images\n",
    "test_path = Path('E:\\\\Final-P\\\\Pneumonia-Detection-using-FastAI-main\\\\chest_xray\\\\test')\n",
    "test_images = get_image_files(test_path)\n",
    "random_images = random.sample(test_images, 10)\n",
    "\n",
    "# Load the exported learner\n",
    "learn_inf = load_learner(path/'export.pkl')\n",
    "\n",
    "# Create a 2x5 table to display the images and their predictions\n",
    "fig, ax = plt.subplots(2, 5, figsize=(12, 6))\n",
    "\n",
    "# Loop through the 10 images and show the predicted labels\n",
    "for i, img_path in enumerate(random_images):\n",
    "    img = Image.open(img_path)\n",
    "    img = img.resize((224, 224))\n",
    "    predicted_label, _, _ = learn_inf.predict(img)\n",
    "    \n",
    "    # Display the image along with the predicted label\n",
    "    row = i // 5\n",
    "    col = i % 5\n",
    "    ax[row, col].imshow(img)\n",
    "    ax[row, col].axis('off')\n",
    "    ax[row, col].set_title(f\"{img_path.name}\\n{predicted_label}\", fontsize=8)\n",
    "\n",
    "plt.tight_layout()\n",
    "plt.show()"
   ]
  },
  {
   "cell_type": "code",
   "execution_count": null,
   "id": "8aba34d5-8928-45f7-a2aa-3c47048bba40",
   "metadata": {},
   "outputs": [],
   "source": [
    "import gradio as gr\n",
    "from PIL import Image\n",
    "\n",
    "def predict_image_vgg(img):\n",
    "    # Convert numpy array to PIL Image\n",
    "    img = Image.fromarray(img)\n",
    "\n",
    "    # Resize the uploaded image\n",
    "    img = img.resize((224, 224))\n",
    "\n",
    "    # Make prediction using the VGG19 model\n",
    "    pred, _, _ = learn_inf.predict(img)\n",
    "    \n",
    "    # Return the predicted label\n",
    "    return pred\n",
    "\n",
    "# Define the Gradio interface\n",
    "iface_vgg = gr.Interface(8\n",
    "    fn=predict_image_vgg,\n",
    "    inputs=gr.components.Image(),\n",
    "    outputs=gr.components.Textbox(label=\"Predicted Label\"),\n",
    "    title=\"Pneumonia Classification (VGG19)\",\n",
    "    description=\"Upload an image of a chest x-ray to classify it as normal, non-viral pneumonia, or viral pneumonia.\"\n",
    ")\n",
    "\n",
    "# Launch the interface\n",
    "iface_vgg.launch(share=True)  # This will create a public link\n"
   ]
  },
  {
   "cell_type": "code",
   "execution_count": null,
   "id": "0fa441dc-4cfa-480f-a370-3db824715716",
   "metadata": {},
   "outputs": [],
   "source": []
  }
 ],
 "metadata": {
  "kernelspec": {
   "display_name": "Python 3 (ipykernel)",
   "language": "python",
   "name": "python3"
  },
  "language_info": {
   "codemirror_mode": {
    "name": "ipython",
    "version": 3
   },
   "file_extension": ".py",
   "mimetype": "text/x-python",
   "name": "python",
   "nbconvert_exporter": "python",
   "pygments_lexer": "ipython3",
   "version": "3.9.0"
  }
 },
 "nbformat": 4,
 "nbformat_minor": 5
}
